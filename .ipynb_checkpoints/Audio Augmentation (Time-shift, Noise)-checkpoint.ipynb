{
 "cells": [
  {
   "cell_type": "code",
   "execution_count": 1,
   "metadata": {},
   "outputs": [],
   "source": [
    "import pandas as pd\n",
    "import matplotlib.pyplot as plt\n",
    "import numpy as np\n",
    "from scipy import signal\n",
    "from scipy.io import wavfile\n",
    "#from scipy.io.wavfile import write\n",
    "sample_rate = 16000\n",
    "import librosa                    \n",
    "import librosa.display\n",
    "from matplotlib.backends.backend_agg import FigureCanvasAgg as FigureCanvas\n",
    "from PIL import Image"
   ]
  },
  {
   "cell_type": "code",
   "execution_count": 2,
   "metadata": {},
   "outputs": [
    {
     "name": "stdout",
     "output_type": "stream",
     "text": [
      "              Wav filename Class              Spectrograms file Phoneme  \\\n",
      "0     2_101532_2666_477311     B  B_T2_1_4_2_101532_2666_477311      T2   \n",
      "1     2_101467_2692_362872     B  B_T2_1_1_2_101467_2692_362872      T2   \n",
      "2     2_101535_2675_768539     G  G_T2_1_3_2_101535_2675_768539      T2   \n",
      "3     2_100751_2671_133223     G  G_T2_1_4_2_100751_2671_133223      T2   \n",
      "4     2_101465_2681_759419     B  B_T2_1_1_2_101465_2681_759419      T2   \n",
      "...                    ...   ...                            ...     ...   \n",
      "1692  2_101416_2685_703019     G  G_T2_1_3_2_101416_2685_703019      T2   \n",
      "1693  2_101458_2653_635101     G  G_T2_1_1_2_101458_2653_635101      T2   \n",
      "1694  2_101458_2653_586560     G  G_T2_1_1_2_101458_2653_586560      T2   \n",
      "1695  2_101458_2653_525830     G  G_T2_1_1_2_101458_2653_525830      T2   \n",
      "1696  2_101546_2706_586720     G  G_T2_1_8_2_101546_2706_586720      T2   \n",
      "\n",
      "      Word Numeratr  Phoneme Numerator  Language  WordID  UserID  \n",
      "0                 1                  4         2  101532    2666  \n",
      "1                 1                  1         2  101467    2692  \n",
      "2                 1                  3         2  101535    2675  \n",
      "3                 1                  4         2  100751    2671  \n",
      "4                 1                  1         2  101465    2681  \n",
      "...             ...                ...       ...     ...     ...  \n",
      "1692              1                  3         2  101416    2685  \n",
      "1693              1                  1         2  101458    2653  \n",
      "1694              1                  1         2  101458    2653  \n",
      "1695              1                  1         2  101458    2653  \n",
      "1696              1                  8         2  101546    2706  \n",
      "\n",
      "[1697 rows x 9 columns]\n"
     ]
    }
   ],
   "source": [
    "df = pd.read_excel (r'../data/train/T2_Files_12.2.20.xlsx')\n",
    "print (df)"
   ]
  },
  {
   "cell_type": "code",
   "execution_count": 3,
   "metadata": {},
   "outputs": [],
   "source": [
    "bad_phoneme_wav=df[df[\"Class\"]==\"B\"]\n",
    "good_phoneme_wav=df[df[\"Class\"]==\"G\"]"
   ]
  },
  {
   "cell_type": "code",
   "execution_count": 4,
   "metadata": {
    "scrolled": true
   },
   "outputs": [],
   "source": [
    "def create_spectrogram (sample_rate, samples, flag,name,folder):\n",
    "    #sample_rate= sample_rate\n",
    "    #samples = 16000\n",
    "    frequencies, times, spectrogram = signal.spectrogram(samples, sample_rate)\n",
    "    plt.pcolormesh(times, frequencies, spectrogram)\n",
    "    fig, ax = plt.subplots()\n",
    "    ax.set_axis_off()\n",
    "    plt.imshow(spectrogram,cmap='gray')\n",
    "    #plt.ylabel('Frequency [Hz]')\n",
    "    #plt.xlabel('Time [sec]')\n",
    "    if(flag):\n",
    "        plt.savefig(\"../data/train/\"+folder+\"/good/\"+ name + \".png\")\n",
    "    else:\n",
    "        plt.savefig(\"../data/train/\"+folder+\"/bad/\"+ name + \".png\")\n",
    "    return (spectrogram)\n",
    "# the function recieve: sample rate = fixed as 16000\n",
    "# samples = its the wav file itself\n",
    "# flag = meaningif it is good phoneme or bad good=1, bad=0\n",
    "# folder = folder name, will usually mean the manipulation done as an augmentation and the folder is being named by it"
   ]
  },
  {
   "cell_type": "code",
   "execution_count": 5,
   "metadata": {},
   "outputs": [],
   "source": [
    "def manipulate_noise_injection(data, noise_factor):\n",
    "    noise = np.random.randn(len(data))\n",
    "    augmented_data = data + noise_factor * noise\n",
    "    # Cast back to same data type\n",
    "    augmented_data = augmented_data.astype(type(data[0]))\n",
    "    return augmented_data"
   ]
  },
  {
   "cell_type": "code",
   "execution_count": 6,
   "metadata": {},
   "outputs": [],
   "source": [
    "def manipulate_time_shifting(data, sampling_rate, shift_max, shift_direction):\n",
    "    shift = np.random.randint(sampling_rate * shift_max)\n",
    "    if shift_direction == 'right':\n",
    "        shift = -shift\n",
    "    elif self.shift_direction == 'both':\n",
    "        direction = np.random.randint(0, 2)\n",
    "        if direction == 1:\n",
    "            shift = -shift\n",
    "    augmented_data = np.roll(data, shift)\n",
    "    # Set to silence for heading/ tailing\n",
    "    if shift > 0:\n",
    "        augmented_data[:shift] = 0\n",
    "    else:\n",
    "        augmented_data[shift:] = 0\n",
    "    return augmented_data"
   ]
  },
  {
   "cell_type": "code",
   "execution_count": 7,
   "metadata": {},
   "outputs": [],
   "source": [
    "#print (bad_phoneme_wav[\"Wav filename\"])\n",
    "bad_phoneme = bad_phoneme_wav[\"Wav filename\"]\n",
    "good_phoneme = good_phoneme_wav[\"Wav filename\"]"
   ]
  },
  {
   "cell_type": "code",
   "execution_count": 8,
   "metadata": {},
   "outputs": [],
   "source": [
    "data_bad = []\n",
    "data_good = []\n",
    "#for loop creating wav files of bad phoneme\n",
    "for st in bad_phoneme:\n",
    "    sample_rate, data_bad1 = wavfile.read('../data/train/wav/'+ st +'.wav')\n",
    "    data_bad.append(data_bad1)\n",
    "#for loop creating wav files of good phoneme\n",
    "for st in good_phoneme:\n",
    "    sample_rate, data_good2 = wavfile.read('../data/train/wav/'+ st +'.wav')\n",
    "    data_good.append(data_good2)"
   ]
  },
  {
   "cell_type": "code",
   "execution_count": 9,
   "metadata": {},
   "outputs": [],
   "source": [
    "def create_spec(file_location,flag,name,folder):\n",
    "    #file_location = '../data/train/wav/2_100003_2653_969904.wav'\n",
    "    y, sr = librosa.load(file_location)\n",
    "    melSpec = librosa.feature.melspectrogram(y=y, sr=sr, n_mels=128)\n",
    "    melSpec_dB = librosa.power_to_db(melSpec, ref=np.max)\n",
    "    \n",
    "    window_size = 1024\n",
    "    window = np.hanning(window_size)\n",
    "    stft  = librosa.core.spectrum.stft(y, n_fft=window_size, hop_length=512, window=window)\n",
    "    out = 2 * np.abs(stft) / np.sum(window)\n",
    "\n",
    "    \n",
    "    #plt.figure(figsize=(10, 5))\n",
    "    #librosa.display.specshow(melSpec_dB, sr=sr, fmax=8000)\n",
    "    \n",
    "    fig = plt.Figure()\n",
    "    canvas = FigureCanvas(fig)\n",
    "    ax = fig.add_subplot(111)\n",
    "    ax.set_axis_off()\n",
    "    #p = librosa.display.specshow(melSpec_dB, sr=sr, fmax=8000)\n",
    "    p = librosa.display.specshow(librosa.amplitude_to_db(out, ref=np.max), ax=ax, y_axis='log', x_axis='time')\n",
    "\n",
    "    #fig.savefig('spec.png')\n",
    "    \n",
    "    #plt.colorbar(format='%+1.0f dB')\n",
    "    #plt.title(\"MelSpectrogram\")\n",
    "    #plt.tight_layout()\n",
    "    #fig, ax = plt.subplots()\n",
    "    \n",
    "    #plt.imshow(melSpec,cmap='gray')\n",
    "    #plt.show()\n",
    "    if(flag):\n",
    "        fig.savefig(\"../data/train/\"+folder+\"/good/\"+ name + \".png\")\n",
    "        img = Image.open(\"../data/train/\"+folder+\"/good/\"+ name + \".png\").convert('LA')\n",
    "        img.save(\"../data/train/\"+folder+\"/good/\"+ name + \".png\")\n",
    "    else:\n",
    "        fig.savefig(\"../data/train/\"+folder+\"/bad/\"+ name + \".png\")\n",
    "        img = Image.open(\"../data/train/\"+folder+\"/bad/\"+ name + \".png\").convert('LA')\n",
    "        img.save(\"../data/train/\"+folder+\"/bad/\"+ name + \".png\")\n",
    "\n",
    "        \n",
    "    \n",
    "\n",
    "    return (melSpec)"
   ]
  },
  {
   "cell_type": "code",
   "execution_count": 10,
   "metadata": {},
   "outputs": [],
   "source": [
    "manipul_data_bad_noise = []\n",
    "manipul_data_good_noise = []\n",
    "for i in range (0,len(bad_phoneme)):\n",
    "    bad_noise = manipulate_noise_injection(data_bad[i],1000)\n",
    "    wavpath = \"../data/train/noised_wav/bad/\"+ str(i) + \".wav\"\n",
    "    wavfile1 = wavfile.write(wavpath,sample_rate,bad_noise)\n",
    "    spec = create_spec(wavpath,0,str(i),folder=\"noised_spectrogram\")\n",
    "    #spec = create_spectrogram (sample_rate,bad_noise,0,str(i),folder=\"noised_spectrogram\")\n",
    "    manipul_data_bad_noise.append (spec)\n",
    "    \n",
    "for i in range (0,len(good_phoneme)):\n",
    "    good_noise = manipulate_noise_injection(data_good[i],1000)\n",
    "    wavpath2 = \"../data/train/noised_wav/good/\"+ str(i) + \".wav\"\n",
    "    wavfile2 = wavfile.write(wavpath2,sample_rate,good_noise)\n",
    "    spec2 = create_spec(wavpath2,1,str(i),folder=\"noised_spectrogram\")\n",
    "    #spec = create_spectrogram (sample_rate,good_noise,1,str(i),folder=\"noised_spectrogram\")\n",
    "    manipul_data_good_noise.append (spec2)"
   ]
  },
  {
   "cell_type": "code",
   "execution_count": 11,
   "metadata": {},
   "outputs": [],
   "source": [
    "manipul_data_good_time_shift = []\n",
    "manipul_data_bad_time_shift = []\n",
    "for i in range (0,len(bad_phoneme)):\n",
    "    bad_time_shift = manipulate_time_shifting(data_bad[i],sample_rate,7,'right')\n",
    "    wavpath = \"../data/train/time_shift_wav/bad/\"+ str(i) + \".wav\"\n",
    "    wavfile1 = wavfile.write(wavpath,sample_rate,bad_time_shift)\n",
    "    spec = create_spec(wavpath,0,str(i),folder=\"time_shift_spectrogram\")\n",
    "    manipul_data_bad_time_shift.append (spec)\n",
    "    \n",
    "for i in range (0,len(good_phoneme)):\n",
    "    good_time_shift = manipulate_time_shifting(data_good[i],sample_rate,7,'right')\n",
    "    wavpath2 = \"../data/train/time_shift_wav/good/\"+ str(i) + \".wav\"\n",
    "    wavfile2 = wavfile.write(wavpath2,sample_rate,good_time_shift)\n",
    "    spec2 = create_spec(wavpath2,1,str(i),folder=\"time_shift_spectrogram\")\n",
    "    manipul_data_good_time_shift.append (spec2)"
   ]
  },
  {
   "cell_type": "code",
   "execution_count": null,
   "metadata": {},
   "outputs": [],
   "source": []
  }
 ],
 "metadata": {
  "kernelspec": {
   "display_name": "Python 3",
   "language": "python",
   "name": "python3"
  },
  "language_info": {
   "codemirror_mode": {
    "name": "ipython",
    "version": 3
   },
   "file_extension": ".py",
   "mimetype": "text/x-python",
   "name": "python",
   "nbconvert_exporter": "python",
   "pygments_lexer": "ipython3",
   "version": "3.6.10"
  }
 },
 "nbformat": 4,
 "nbformat_minor": 4
}
